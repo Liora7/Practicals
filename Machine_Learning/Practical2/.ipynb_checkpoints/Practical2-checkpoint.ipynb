{
 "cells": [
  {
   "cell_type": "code",
   "execution_count": 654,
   "metadata": {},
   "outputs": [],
   "source": [
    "from math import log, sqrt, exp, pi\n",
    "from scipy.stats import norm\n",
    "import numpy as np"
   ]
  },
  {
   "cell_type": "code",
   "execution_count": 666,
   "metadata": {},
   "outputs": [],
   "source": [
    "class NBC:\n",
    "    \n",
    "    def __init__(self, feature_types, num_classes):\n",
    "        self.feature_types = feature_types\n",
    "        self.num_classes = num_classes\n",
    "\n",
    "    def fit(self, X, y):\n",
    "        #get N and D\n",
    "        n_samples, n_features = X.shape\n",
    "        #remember class names\n",
    "        self.classes = np.unique(y)\n",
    "        \n",
    "        # calculate mean, var, and prior for each class\n",
    "        self.mean = np.zeros((self.num_classes, n_features), dtype=np.float64)\n",
    "        self.var = np.zeros((self.num_classes, n_features), dtype=np.float64)\n",
    "        self.pis =  np.zeros(self.num_classes, dtype=np.float64)\n",
    "\n",
    "        for idx, c in enumerate(self.classes):\n",
    "            X_c = X[y==c]\n",
    "            self.mean[idx, :] = X_c.mean(axis=0)\n",
    "            self.var[idx, :] = X_c.var(axis=0)\n",
    "            #Laplace smoothing for prior pi_c\n",
    "            self.pis[idx] = (X_c.shape[0]+1) / (float(n_samples) + self.num_classes)\n",
    "\n",
    "    def predict(self, X):\n",
    "        #predict each data point in turn\n",
    "        y_pred = [self._predict(x) for x in X]\n",
    "        return np.array(y_pred)\n",
    "\n",
    "    def _predict(self, x): #predict one data point\n",
    "        probs = []\n",
    "\n",
    "        #calculate posterior probability for each class\n",
    "        for idx in range(len(self.classes)):\n",
    "            pi_c = np.log(self.pis[idx])\n",
    "            p = np.sum(np.log(self._pdf(idx, x)))\n",
    "            p = pi_c + p\n",
    "            probs.append(p)\n",
    "            \n",
    "        #return class with highest posterior probability\n",
    "        return self.classes[np.argmax(probs)]\n",
    "            \n",
    "\n",
    "    def _pdf(self, class_idx, x): #calculate all class probabilities for one data point\n",
    "        probs = []\n",
    "        for i, f in enumerate(self.feature_types):\n",
    "            #handle real and binary features differently\n",
    "            if f=='r':   \n",
    "                #Gaussian distr\n",
    "                mean = self.mean[class_idx][i]\n",
    "                var = max(1E-6,self.var[class_idx][i])\n",
    "                p = max(1E-6, norm.pdf(x[i], mean, sqrt(var)))\n",
    "                probs.append(p)\n",
    "            elif f=='b':\n",
    "                #Bernoulli distr\n",
    "                theta = self.mean[class_idx][i]\n",
    "                p = max(1E-6, (theta**x[i]) * ((1-theta)**(1-x[i])))\n",
    "                probs.append(p)\n",
    "        return np.array(probs)\n"
   ]
  },
  {
   "cell_type": "code",
   "execution_count": 656,
   "metadata": {},
   "outputs": [],
   "source": [
    "from sklearn.linear_model import LogisticRegression\n",
    "# for a regularization strength of lambda=0.1, we would set C=1/0.1=10."
   ]
  },
  {
   "cell_type": "code",
   "execution_count": 657,
   "metadata": {},
   "outputs": [],
   "source": [
    "from sklearn.datasets import load_iris\n",
    "iris = load_iris()\n",
    "X, y = iris['data'], iris['target']\n",
    "\n",
    "N, D = X.shape\n",
    "Ntrain = int(0.8 * N)\n",
    "\n",
    "def runOnceIris(dataPercent):\n",
    "    NtrainPart = int(Ntrain*dataPercent)\n",
    "    shuffler = np.random.permutation(N)\n",
    "    Xtrain = X[shuffler[:NtrainPart]]\n",
    "    ytrain = y[shuffler[:NtrainPart]]\n",
    "    Xtest = X[shuffler[Ntrain:]]\n",
    "    ytest = y[shuffler[Ntrain:]]\n",
    "    nbcError = NBCrunIris(Xtrain, ytrain, Xtest, ytest)\n",
    "    logError = LOGrunIris(Xtrain, ytrain, Xtest, ytest)\n",
    "    return (nbcError, logError)"
   ]
  },
  {
   "cell_type": "code",
   "execution_count": 658,
   "metadata": {},
   "outputs": [],
   "source": [
    "def NBCrunIris(Xtrain, ytrain, Xtest, ytest):\n",
    "    nbc = NBC(feature_types=['r', 'r', 'r', 'r'], num_classes=3)\n",
    "    nbc.fit(Xtrain, ytrain)\n",
    "    yhat = nbc.predict(Xtest)\n",
    "    test_accuracy = np.mean(yhat == ytest)\n",
    "    return test_accuracy\n",
    "\n",
    "def LOGrunIris(Xtrain, ytrain, Xtest, ytest):\n",
    "    log = LogisticRegression()\n",
    "    log.fit(Xtrain, ytrain)\n",
    "    yhat = log.predict(Xtest)\n",
    "    test_accuracy = np.mean(yhat == ytest)\n",
    "    return test_accuracy"
   ]
  },
  {
   "cell_type": "code",
   "execution_count": 659,
   "metadata": {},
   "outputs": [
    {
     "name": "stdout",
     "output_type": "stream",
     "text": [
      "10  percent used\n",
      "20  percent used\n",
      "30  percent used\n",
      "40  percent used\n",
      "50  percent used\n",
      "60  percent used\n",
      "70  percent used\n",
      "80  percent used\n",
      "90  percent used\n",
      "100  percent used\n"
     ]
    },
    {
     "data": {
      "image/png": "[encoded data removed]",
      "text/plain": [
       "<Figure size 432x288 with 1 Axes>"
      ]
     },
     "metadata": {
      "needs_background": "light"
     },
     "output_type": "display_data"
    }
   ],
   "source": [
    "import matplotlib.pyplot as plt\n",
    "from statistics import mean\n",
    "\n",
    "# import warnings filter\n",
    "from warnings import simplefilter\n",
    "# ignore all future warnings\n",
    "simplefilter(action='ignore', category=FutureWarning)\n",
    "\n",
    "\n",
    "def avgTestAccIris(dataPercent):\n",
    "    nbcAccs = []\n",
    "    logAccs = []\n",
    "    for i in range(200):\n",
    "        (nbc, log) = runOnceIris(dataPercent)\n",
    "        nbcAccs.append(nbc)\n",
    "        logAccs.append(log)\n",
    "    return (mean(nbcAccs), mean(logAccs))\n",
    "\n",
    "def plotErrorsIris():\n",
    "    nbcErrors = []\n",
    "    logErrors = []\n",
    "    setSizes = []\n",
    "    for p in range(1, 11):\n",
    "        (nbc, log) = avgTestAccIris(0.1*p)\n",
    "        nbcErrors.append(1-nbc)\n",
    "        logErrors.append(1-log) \n",
    "        setSizes.append(int(0.1*p*100))\n",
    "        print(int(0.1*p*100), \" percent used\")\n",
    "    plt.figure()\n",
    "    plt.xlabel(\"Training set size\")\n",
    "    plt.ylabel(\"Error\")\n",
    "    plt.grid()\n",
    "\n",
    "    plt.plot(setSizes, nbcErrors, 'o-', color=\"r\",\n",
    "             label=\"NBC error\")\n",
    "    plt.plot(setSizes, logErrors, 'o-', color=\"g\",\n",
    "             label=\"Log error\")\n",
    "    \n",
    "plotErrorsIris()"
   ]
  },
  {
   "cell_type": "code",
   "execution_count": 660,
   "metadata": {},
   "outputs": [],
   "source": [
    "import pickle as cp\n",
    "import numpy as np\n",
    "X, y = cp.load(open('voting.pickle', 'rb'))"
   ]
  },
  {
   "cell_type": "code",
   "execution_count": 667,
   "metadata": {},
   "outputs": [
    {
     "name": "stdout",
     "output_type": "stream",
     "text": [
      "10  percent used\n",
      "20  percent used\n",
      "30  percent used\n",
      "40  percent used\n",
      "50  percent used\n",
      "60  percent used\n",
      "70  percent used\n",
      "80  percent used\n",
      "90  percent used\n",
      "100  percent used\n"
     ]
    },
    {
     "data": {
      "image/png": "[encoded data removed]",
      "text/plain": [
       "<Figure size 432x288 with 1 Axes>"
      ]
     },
     "metadata": {
      "needs_background": "light"
     },
     "output_type": "display_data"
    }
   ],
   "source": [
    "N, D = X.shape\n",
    "Ntrain = int(0.8 * N)\n",
    "\n",
    "def runOnceVoting(dataPercent):\n",
    "    NtrainPart = int(Ntrain*dataPercent)\n",
    "    shuffler = np.random.permutation(N)\n",
    "    Xtrain = X[shuffler[:NtrainPart]]\n",
    "    ytrain = y[shuffler[:NtrainPart]]\n",
    "    Xtest = X[shuffler[Ntrain:]]\n",
    "    ytest = y[shuffler[Ntrain:]]\n",
    "    nbcError = NBCrunVoting(Xtrain, ytrain, Xtest, ytest)\n",
    "    logError = LOGrun(Xtrain, ytrain, Xtest, ytest)\n",
    "    return (nbcError, logError)\n",
    "\n",
    "def NBCrunVoting(Xtrain, ytrain, Xtest, ytest):\n",
    "    nbc = NBC(feature_types=['b', 'b', 'b', 'b', 'b', 'b', 'b', 'b', 'b', 'b', 'b', 'b', 'b', 'b', 'b', 'b'], num_classes=2)\n",
    "    nbc.fit(Xtrain, ytrain)\n",
    "    yhat = nbc.predict(Xtest)\n",
    "    test_accuracy = np.mean(yhat == ytest)\n",
    "    return test_accuracy\n",
    "\n",
    "def LOGrunVoting(Xtrain, ytrain, Xtest, ytest):\n",
    "    log = LogisticRegression()\n",
    "    log.fit(Xtrain, ytrain)\n",
    "    yhat = log.predict(Xtest)\n",
    "    test_accuracy = np.mean(yhat == ytest)\n",
    "    return test_accuracy\n",
    "\n",
    "\n",
    "def avgTestAccVoting(dataPercent):\n",
    "    nbcAccs = []\n",
    "    logAccs = []\n",
    "    for i in range(200):\n",
    "        (nbc, log) = runOnceVoting(dataPercent)\n",
    "        nbcAccs.append(nbc)\n",
    "        logAccs.append(log)\n",
    "    return (mean(nbcAccs), mean(logAccs))\n",
    "\n",
    "def plotErrorsVoting():\n",
    "    nbcErrors = []\n",
    "    logErrors = []\n",
    "    setSizes = []\n",
    "    for p in range(1, 11):\n",
    "        (nbc, log) = avgTestAccVoting(0.1*p)\n",
    "        nbcErrors.append(1-nbc)\n",
    "        logErrors.append(1-log) \n",
    "        setSizes.append(int(0.1*p*100))\n",
    "        print(int(0.1*p*100), \" percent used\")\n",
    "    plt.figure()\n",
    "    plt.xlabel(\"Training set size\")\n",
    "    plt.ylabel(\"Error\")\n",
    "    plt.grid()\n",
    "\n",
    "    plt.plot(setSizes, nbcErrors, 'o-', color=\"r\",\n",
    "             label=\"NBC error\")\n",
    "    plt.plot(setSizes, logErrors, 'o-', color=\"g\",\n",
    "             label=\"Log error\")\n",
    "    \n",
    "plotErrorsVoting()"
   ]
  },
  {
   "cell_type": "code",
   "execution_count": null,
   "metadata": {},
   "outputs": [],
   "source": []
  }
 ],
 "metadata": {
  "kernelspec": {
   "display_name": "Python 3",
   "language": "python",
   "name": "python3"
  },
  "language_info": {
   "codemirror_mode": {
    "name": "ipython",
    "version": 3
   },
   "file_extension": ".py",
   "mimetype": "text/x-python",
   "name": "python",
   "nbconvert_exporter": "python",
   "pygments_lexer": "ipython3",
   "version": "3.6.8"
  }
 },
 "nbformat": 4,
 "nbformat_minor": 2
}
