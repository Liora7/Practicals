{
 "cells": [
  {
   "cell_type": "code",
   "execution_count": 241,
   "metadata": {},
   "outputs": [],
   "source": [
    "import _pickle as cp\n",
    "import numpy as np"
   ]
  },
  {
   "cell_type": "code",
   "execution_count": 242,
   "metadata": {},
   "outputs": [],
   "source": [
    "# load data\n",
    "X, y = cp.load(open('winequality-white.pickle', 'rb'))"
   ]
  },
  {
   "cell_type": "code",
   "execution_count": 243,
   "metadata": {},
   "outputs": [],
   "source": [
    "# split into train and test\n",
    "N, D = X.shape\n",
    "N_train = int(0.8 * N)\n",
    "N_test = N - N_train"
   ]
  },
  {
   "cell_type": "code",
   "execution_count": 244,
   "metadata": {},
   "outputs": [],
   "source": [
    "X_train = X[:N_train]\n",
    "y_train = y[:N_train]\n",
    "X_test = X[N_train:]\n",
    "y_test = y[N_train:]"
   ]
  },
  {
   "cell_type": "code",
   "execution_count": 245,
   "metadata": {},
   "outputs": [],
   "source": [
    "import matplotlib.pyplot as plt\n",
    "%matplotlib inline"
   ]
  },
  {
   "cell_type": "code",
   "execution_count": 246,
   "metadata": {},
   "outputs": [
    {
     "data": {
      "text/plain": [
       "(array([  14.,  129., 1164., 1772.,  692.,  144.,    3.]),\n",
       " array([ 3,  4,  5,  6,  7,  8,  9, 10]),\n",
       " <a list of 7 Patch objects>)"
      ]
     },
     "execution_count": 246,
     "metadata": {},
     "output_type": "execute_result"
    },
    {
     "data": {
      "image/png": "[encoded data removed]",
      "text/plain": [
       "<Figure size 432x288 with 1 Axes>"
      ]
     },
     "metadata": {
      "needs_background": "light"
     },
     "output_type": "display_data"
    }
   ],
   "source": [
    "#plot frequencies of labels\n",
    "plt.hist(y_train, bins=np.arange(3, 11))"
   ]
  },
  {
   "cell_type": "code",
   "execution_count": 247,
   "metadata": {},
   "outputs": [
    {
     "data": {
      "text/plain": [
       "5.878764675855028"
      ]
     },
     "execution_count": 247,
     "metadata": {},
     "output_type": "execute_result"
    }
   ],
   "source": [
    "# calculate label mean\n",
    "average_y = y_train.mean()\n",
    "average_y"
   ]
  },
  {
   "cell_type": "code",
   "execution_count": 248,
   "metadata": {},
   "outputs": [
    {
     "data": {
      "text/plain": [
       "0.7767772386501117"
      ]
     },
     "execution_count": 248,
     "metadata": {},
     "output_type": "execute_result"
    }
   ],
   "source": [
    "# predict mean for each new data point\n",
    "average_predictions = np.zeros((1, N_train))\n",
    "average_predictions.fill(average_y)\n",
    "\n",
    "# mean squared error\n",
    "np.square(np.subtract(y_train, average_predictions)).mean()"
   ]
  },
  {
   "cell_type": "code",
   "execution_count": 249,
   "metadata": {},
   "outputs": [],
   "source": [
    "# Least squares estimator\n",
    "# append column of ones to features\n",
    "X_train_ext = np.c_[np.ones(N_train), X_train]\n",
    "\n",
    "# calculate hat matrix using closed-form solution\n",
    "W = np.linalg.inv(X_train_ext.transpose().dot(X_train_ext)).dot(X_train_ext.transpose()).dot(y_train)"
   ]
  },
  {
   "cell_type": "code",
   "execution_count": 250,
   "metadata": {},
   "outputs": [
    {
     "data": {
      "text/plain": [
       "0.5639996173941928"
      ]
     },
     "execution_count": 250,
     "metadata": {},
     "output_type": "execute_result"
    }
   ],
   "source": [
    "# training set predictions\n",
    "train_yhats = np.dot(X_train_ext, W.T)\n",
    "\n",
    "# training error\n",
    "np.square(np.subtract(y_train, train_yhats)).mean()"
   ]
  },
  {
   "cell_type": "code",
   "execution_count": 254,
   "metadata": {},
   "outputs": [
    {
     "data": {
      "text/plain": [
       "0.5607292041828037"
      ]
     },
     "execution_count": 254,
     "metadata": {},
     "output_type": "execute_result"
    }
   ],
   "source": [
    "# append column of ones to features\n",
    "X_test_ext = np.c_[np.ones(len(X_test)), X_test]\n",
    "\n",
    "# test set predictions\n",
    "test_yhats = np.dot(X_test_ext, W.T)\n",
    "\n",
    "# test error\n",
    "np.square(np.subtract(y_test, test_yhats)).mean()"
   ]
  },
  {
   "cell_type": "code",
   "execution_count": 255,
   "metadata": {},
   "outputs": [],
   "source": [
    "# center training output\n",
    "norm_y_train = y_train - average_y"
   ]
  },
  {
   "cell_type": "code",
   "execution_count": 256,
   "metadata": {},
   "outputs": [],
   "source": [
    "# normalize training data\n",
    "average_x = X_train.mean()\n",
    "train_X_sd = X_train.std()\n",
    "norm_X_train = (X_train - average_x)/train_X_sd"
   ]
  },
  {
   "cell_type": "code",
   "execution_count": 257,
   "metadata": {},
   "outputs": [],
   "source": [
    "# normalize test data\n",
    "norm_y_test = y_test - average_y\n",
    "norm_X_test = (X_test - average_x)/train_X_sd"
   ]
  },
  {
   "cell_type": "code",
   "execution_count": 258,
   "metadata": {},
   "outputs": [],
   "source": [
    "#append column of ones to features\n",
    "norm_X_train_ext = np.c_[np.ones(N_train), norm_X_train]\n",
    "\n",
    "# calculate hat matrix using closed-form solution\n",
    "norm_W = np.linalg.inv(norm_X_train_ext.transpose().dot(norm_X_train_ext)).dot(norm_X_train_ext.transpose()).dot(norm_y_train)"
   ]
  },
  {
   "cell_type": "code",
   "execution_count": 259,
   "metadata": {},
   "outputs": [
    {
     "data": {
      "text/plain": [
       "0.5639996173942063"
      ]
     },
     "execution_count": 259,
     "metadata": {},
     "output_type": "execute_result"
    }
   ],
   "source": [
    "#training set predictions\n",
    "norm_train_yhats = np.dot(norm_X_train_ext, norm_W.T)\n",
    "\n",
    "#training error\n",
    "np.square(np.subtract(norm_y_train, norm_train_yhats)).mean()"
   ]
  },
  {
   "cell_type": "code",
   "execution_count": 260,
   "metadata": {},
   "outputs": [
    {
     "data": {
      "text/plain": [
       "0.560729206693051"
      ]
     },
     "execution_count": 260,
     "metadata": {},
     "output_type": "execute_result"
    }
   ],
   "source": [
    "#append column of ones to features\n",
    "norm_X_test_ext = np.c_[np.ones(N_test), norm_X_test]\n",
    "\n",
    "#test set predictions\n",
    "norm_test_yhats = np.dot(norm_X_test_ext, norm_W.T)\n",
    "\n",
    "#test error\n",
    "np.square(np.subtract(norm_y_test, norm_test_yhats)).mean()"
   ]
  },
  {
   "cell_type": "code",
   "execution_count": 261,
   "metadata": {},
   "outputs": [],
   "source": [
    "def getError(actual, preds):\n",
    "    return np.square(np.subtract(actual, preds)).mean()"
   ]
  },
  {
   "cell_type": "code",
   "execution_count": 262,
   "metadata": {},
   "outputs": [
    {
     "data": {
      "image/png": "[encoded data removed]",
      "text/plain": [
       "<Figure size 432x288 with 1 Axes>"
      ]
     },
     "metadata": {
      "needs_background": "light"
     },
     "output_type": "display_data"
    }
   ],
   "source": [
    "def learningCurve():\n",
    "    set_sizes = range(20, 600, 20)\n",
    "    train_errors = []\n",
    "    test_errors = []\n",
    "    for i in set_sizes:\n",
    "        X_piece = X[:i]\n",
    "        y_piece = y[:i]\n",
    "        \n",
    "        #append column of ones to features\n",
    "        X_piece = np.c_[np.ones(i), X_piece]\n",
    "        # calculate hat matrix using closed-form solution\n",
    "        W = np.linalg.inv(X_piece.transpose().dot(X_piece)).dot(X_piece.transpose()).dot(y_piece)\n",
    "        \n",
    "        #training set predictions\n",
    "        train_yhats = np.dot(X_piece, W.T)\n",
    "        train_error = getError(y_piece, train_yhats)\n",
    "        train_errors.append(train_error)\n",
    "        \n",
    "        #test set predictions\n",
    "        X_test = np.c_[np.ones(N_test), X[N_train:]]\n",
    "        test_yhats = np.dot(X_test, W.T)\n",
    "        test_error = getError(y_test, test_yhats)\n",
    "        test_errors.append(test_error)\n",
    "        \n",
    "        \n",
    "    plt.figure()\n",
    "    plt.xlabel(\"Training set size\")\n",
    "    plt.ylabel(\"Mean Squared Error\")\n",
    "    plt.grid()\n",
    "\n",
    "    plt.plot(set_sizes, train_errors, 'o-', color=\"r\",\n",
    "             label=\"Training error\")\n",
    "    plt.plot(set_sizes, test_errors, 'o-', color=\"g\",\n",
    "             label=\"Test error\")\n",
    "    \n",
    "learningCurve()\n"
   ]
  },
  {
   "cell_type": "markdown",
   "metadata": {},
   "source": [
    "This model is not overfitting, as the two error curves meet once the training set has a size of about 220. However, it might be underfitting as the error is still relatively high."
   ]
  },
  {
   "cell_type": "code",
   "execution_count": 263,
   "metadata": {},
   "outputs": [
    {
     "data": {
      "image/png": "[encoded data removed]",
      "text/plain": [
       "<Figure size 432x288 with 1 Axes>"
      ]
     },
     "metadata": {
      "needs_background": "light"
     },
     "output_type": "display_data"
    }
   ],
   "source": [
    "def normLearningCurve():\n",
    "    set_sizes = range(20, 600, 20)\n",
    "    train_errors = []\n",
    "    test_errors = []\n",
    "    for i in set_sizes:\n",
    "        X_piece = norm_X_train[:i]\n",
    "        y_piece = norm_y_train[:i]\n",
    "        \n",
    "        #append column of ones to features\n",
    "        X_piece = np.c_[np.ones(i), X_piece]\n",
    "        # calculate hat matrix using closed-form solution\n",
    "        W = np.linalg.inv(X_piece.transpose().dot(X_piece)).dot(X_piece.transpose()).dot(y_piece)\n",
    "        \n",
    "        #training set predictions\n",
    "        train_yhats = np.dot(X_piece, W.T)\n",
    "        train_error = getError(y_piece, train_yhats)\n",
    "        train_errors.append(train_error)\n",
    "        \n",
    "        #test set predictions\n",
    "        X_test = np.c_[np.ones(N_test), norm_X_test]\n",
    "        test_yhats = np.dot(X_test, W.T)\n",
    "        test_error = getError(norm_y_test, test_yhats)\n",
    "        test_errors.append(test_error)\n",
    "        \n",
    "        \n",
    "    plt.figure()\n",
    "    plt.xlabel(\"Training set size\")\n",
    "    plt.ylabel(\"Mean Squared Error\")\n",
    "    plt.grid()\n",
    "\n",
    "    plt.plot(set_sizes, train_errors, 'o-', color=\"r\",\n",
    "             label=\"Training error\")\n",
    "    plt.plot(set_sizes, test_errors, 'o-', color=\"g\",\n",
    "             label=\"Test error\")\n",
    "    \n",
    "normLearningCurve()\n"
   ]
  },
  {
   "cell_type": "markdown",
   "metadata": {},
   "source": [
    "The amount of data needed to reach the optimal error possible with this model is about 250 data points."
   ]
  },
  {
   "cell_type": "code",
   "execution_count": 264,
   "metadata": {},
   "outputs": [],
   "source": [
    "from sklearn.linear_model import Ridge, Lasso\n",
    "from sklearn.preprocessing import PolynomialFeatures, StandardScaler\n",
    "from sklearn.pipeline import make_pipeline"
   ]
  },
  {
   "cell_type": "code",
   "execution_count": 299,
   "metadata": {},
   "outputs": [
    {
     "name": "stdout",
     "output_type": "stream",
     "text": [
      "0.01 :  0.3282109032674563\n",
      "0.1 :  0.3283198288390675\n",
      "1 :  0.3291021408867084\n",
      "10 :  0.3297434657283492\n",
      "100 :  0.32001126142663905\n"
     ]
    }
   ],
   "source": [
    "def RidgeModel(lam):\n",
    "    N_valid = int(0.8 * N_train)\n",
    "    X_t = X[:N_valid]\n",
    "    X_v = X[N_valid:N_train]\n",
    "    y_t = y[:N_valid]\n",
    "    y_v = y[N_valid:N_train]\n",
    "    \n",
    "    pipe = make_pipeline(StandardScaler(), PolynomialFeatures(2), Ridge(alpha=lam))\n",
    "    pipe.fit(X_t, y_t)\n",
    "    print(lam, \": \", pipe.score(X_v, y_v))\n",
    "for l in [10**(-2), 10**(-1), 1, 10**1, 10**2]:\n",
    "    RidgeModel(l)\n",
    "    # best validation error achieved with lambda=100"
   ]
  },
  {
   "cell_type": "code",
   "execution_count": 300,
   "metadata": {},
   "outputs": [
    {
     "name": "stdout",
     "output_type": "stream",
     "text": [
      "0.01 :  0.3063027730425949\n",
      "0.1 :  0.20863630815182435\n",
      "1 :  -0.003966259955470841\n",
      "10 :  -0.003966259955470841\n",
      "100 :  -0.003966259955470841\n"
     ]
    }
   ],
   "source": [
    "def LassoModel(lam):\n",
    "    N_valid = int(0.8 * N_train)\n",
    "    X_t = X[:N_valid]\n",
    "    X_v = X[N_valid:N_train]\n",
    "    y_t = y[:N_valid]\n",
    "    y_v = y[N_valid:N_train]\n",
    "    \n",
    "    pipe = make_pipeline(StandardScaler(), PolynomialFeatures(2), Lasso(alpha=lam))\n",
    "    pipe.fit(X_t, y_t)\n",
    "    print(lam, \": \", pipe.score(X_v, y_v))\n",
    "for l in [10**(-2), 10**(-1), 1, 10**1, 10**2]:\n",
    "    LassoModel(l)\n",
    "    # best validation error achieved with lambda=1"
   ]
  },
  {
   "cell_type": "code",
   "execution_count": 307,
   "metadata": {},
   "outputs": [
    {
     "name": "stdout",
     "output_type": "stream",
     "text": [
      "training error:  0.3571539454705174\n",
      "test error:  0.37099753339123503\n"
     ]
    }
   ],
   "source": [
    "def fullRidge():    \n",
    "    pipe = make_pipeline(StandardScaler(), PolynomialFeatures(2), Ridge(alpha=100))\n",
    "    pipe.fit(X_train, y_train)\n",
    "    print(\"training error: \", pipe.score(X_train, y_train))\n",
    "    print(\"test error: \", pipe.score(X_test, y_test))\n",
    "fullRidge()"
   ]
  },
  {
   "cell_type": "code",
   "execution_count": 308,
   "metadata": {},
   "outputs": [
    {
     "name": "stdout",
     "output_type": "stream",
     "text": [
      "training error:  0.0\n",
      "test error:  -2.245480728046978e-05\n"
     ]
    }
   ],
   "source": [
    "def fullLasso():    \n",
    "    pipe = make_pipeline(StandardScaler(), PolynomialFeatures(2), Lasso(alpha=1))\n",
    "    pipe.fit(X_train, y_train)\n",
    "    print(\"training error: \", pipe.score(X_train, y_train))\n",
    "    print(\"test error: \", pipe.score(X_test, y_test))\n",
    "fullLasso()"
   ]
  },
  {
   "cell_type": "code",
   "execution_count": null,
   "metadata": {},
   "outputs": [],
   "source": []
  }
 ],
 "metadata": {
  "kernelspec": {
   "display_name": "Python 3",
   "language": "python",
   "name": "python3"
  },
  "language_info": {
   "codemirror_mode": {
    "name": "ipython",
    "version": 3
   },
   "file_extension": ".py",
   "mimetype": "text/x-python",
   "name": "python",
   "nbconvert_exporter": "python",
   "pygments_lexer": "ipython3",
   "version": "3.6.8"
  }
 },
 "nbformat": 4,
 "nbformat_minor": 2
}
